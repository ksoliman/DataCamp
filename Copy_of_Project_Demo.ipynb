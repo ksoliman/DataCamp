{
  "nbformat": 4,
  "nbformat_minor": 0,
  "metadata": {
    "anaconda-cloud": {},
    "kernelspec": {
      "display_name": "Python 3",
      "language": "python",
      "name": "python3"
    },
    "language_info": {
      "codemirror_mode": {
        "name": "ipython",
        "version": 3
      },
      "file_extension": ".py",
      "mimetype": "text/x-python",
      "name": "python",
      "nbconvert_exporter": "python",
      "pygments_lexer": "ipython3",
      "version": "3.6.7"
    },
    "colab": {
      "name": "Copy of Project-Demo.ipynb",
      "provenance": [],
      "include_colab_link": true
    }
  },
  "cells": [
    {
      "cell_type": "markdown",
      "metadata": {
        "id": "view-in-github",
        "colab_type": "text"
      },
      "source": [
        "<a href=\"https://colab.research.google.com/github/ksoliman/DataCamp/blob/master/Copy_of_Project_Demo.ipynb\" target=\"_parent\"><img src=\"https://colab.research.google.com/assets/colab-badge.svg\" alt=\"Open In Colab\"/></a>"
      ]
    },
    {
      "cell_type": "markdown",
      "metadata": {
        "id": "zqRgrIH7NF7c",
        "colab_type": "text"
      },
      "source": [
        "# Project Demo\n",
        "\n",
        "This demo is designed to provide some general tips and tricks for the ITDS Fall 2019 project. For full details on the project, please refer to [the project requirements](https://grantmlong.com/teaching/fall2019/project/Project-ITDS-Fall-2019.pdf).\n",
        "\n",
        "***\n",
        "This demo uses `scikit-learn`, but by no means are you required to use this or any other particular package.\n",
        "\n"
      ]
    },
    {
      "cell_type": "code",
      "metadata": {
        "id": "pEKxqNpRNF7h",
        "colab_type": "code",
        "colab": {}
      },
      "source": [
        "import numpy as np\n",
        "import pandas as pd\n",
        "import matplotlib.pyplot as plt\n",
        "\n",
        "from sklearn.linear_model import LinearRegression\n",
        "from sklearn.metrics import mean_squared_error\n",
        "\n",
        "%matplotlib inline"
      ],
      "execution_count": 0,
      "outputs": []
    },
    {
      "cell_type": "code",
      "metadata": {
        "id": "9AEV33xVNF7m",
        "colab_type": "code",
        "colab": {}
      },
      "source": [
        "train_df = pd.read_csv('https://grantmlong.com/data/SE_rents2018_train.csv', index_col=0)\n",
        "test_df = pd.read_csv('https://grantmlong.com/data/SE_rents2018_test1.csv', index_col=0)\n",
        "submit1_df = pd.read_csv('https://grantmlong.com/data/SE_rents2018_test2.csv', index_col=0)\n",
        "submit2_df = pd.read_csv('https://grantmlong.com/data/SE_rents2018_test3.csv', index_col=0)"
      ],
      "execution_count": 0,
      "outputs": []
    },
    {
      "cell_type": "code",
      "metadata": {
        "id": "BkZWYHdUNF7q",
        "colab_type": "code",
        "outputId": "b4534c8f-bba2-443c-df93-fbdade103a69",
        "colab": {
          "base_uri": "https://localhost:8080/",
          "height": 1000
        }
      },
      "source": [
        "train_df.sample(5).transpose()\n",
        "#bbl and bin helps w city data"
      ],
      "execution_count": 0,
      "outputs": [
        {
          "output_type": "execute_result",
          "data": {
            "text/html": [
              "<div>\n",
              "<style scoped>\n",
              "    .dataframe tbody tr th:only-of-type {\n",
              "        vertical-align: middle;\n",
              "    }\n",
              "\n",
              "    .dataframe tbody tr th {\n",
              "        vertical-align: top;\n",
              "    }\n",
              "\n",
              "    .dataframe thead th {\n",
              "        text-align: right;\n",
              "    }\n",
              "</style>\n",
              "<table border=\"1\" class=\"dataframe\">\n",
              "  <thead>\n",
              "    <tr style=\"text-align: right;\">\n",
              "      <th>rental_id</th>\n",
              "      <th>7134850</th>\n",
              "      <th>7203613</th>\n",
              "      <th>7219147</th>\n",
              "      <th>7159297</th>\n",
              "      <th>7150303</th>\n",
              "    </tr>\n",
              "  </thead>\n",
              "  <tbody>\n",
              "    <tr>\n",
              "      <th>addr_unit</th>\n",
              "      <td>#3</td>\n",
              "      <td>#PH8FL</td>\n",
              "      <td>#3</td>\n",
              "      <td>#9B</td>\n",
              "      <td>#615</td>\n",
              "    </tr>\n",
              "    <tr>\n",
              "      <th>building_id</th>\n",
              "      <td>1282774</td>\n",
              "      <td>22102</td>\n",
              "      <td>1237375</td>\n",
              "      <td>60493</td>\n",
              "      <td>457</td>\n",
              "    </tr>\n",
              "    <tr>\n",
              "      <th>bedrooms</th>\n",
              "      <td>2</td>\n",
              "      <td>3</td>\n",
              "      <td>2</td>\n",
              "      <td>2</td>\n",
              "      <td>0</td>\n",
              "    </tr>\n",
              "    <tr>\n",
              "      <th>bathrooms</th>\n",
              "      <td>1</td>\n",
              "      <td>2</td>\n",
              "      <td>1</td>\n",
              "      <td>2</td>\n",
              "      <td>1</td>\n",
              "    </tr>\n",
              "    <tr>\n",
              "      <th>size_sqft</th>\n",
              "      <td>800</td>\n",
              "      <td>4000</td>\n",
              "      <td>750</td>\n",
              "      <td>869</td>\n",
              "      <td>645</td>\n",
              "    </tr>\n",
              "    <tr>\n",
              "      <th>created_at</th>\n",
              "      <td>2018-05-01 15:34:58</td>\n",
              "      <td>2018-05-23 18:02:21</td>\n",
              "      <td>2018-05-30 12:11:27</td>\n",
              "      <td>2018-05-08 18:07:33</td>\n",
              "      <td>2018-05-05 14:55:15</td>\n",
              "    </tr>\n",
              "    <tr>\n",
              "      <th>addr_street</th>\n",
              "      <td>22-18 47 STREET</td>\n",
              "      <td>54 BLEECKER STREET</td>\n",
              "      <td>10-23 47 ROAD</td>\n",
              "      <td>393 WEST END AVENUE</td>\n",
              "      <td>55 WALL STREET</td>\n",
              "    </tr>\n",
              "    <tr>\n",
              "      <th>addr_city</th>\n",
              "      <td>Astoria</td>\n",
              "      <td>New York</td>\n",
              "      <td>Long Island City</td>\n",
              "      <td>New York</td>\n",
              "      <td>New York</td>\n",
              "    </tr>\n",
              "    <tr>\n",
              "      <th>addr_zip</th>\n",
              "      <td>11105</td>\n",
              "      <td>10012</td>\n",
              "      <td>11101</td>\n",
              "      <td>10024</td>\n",
              "      <td>10005</td>\n",
              "    </tr>\n",
              "    <tr>\n",
              "      <th>addr_lat</th>\n",
              "      <td>40.7695</td>\n",
              "      <td>40.7258</td>\n",
              "      <td>40.7448</td>\n",
              "      <td>40.7842</td>\n",
              "      <td>40.7058</td>\n",
              "    </tr>\n",
              "    <tr>\n",
              "      <th>addr_lon</th>\n",
              "      <td>-73.9025</td>\n",
              "      <td>-73.995</td>\n",
              "      <td>-73.9524</td>\n",
              "      <td>-73.9817</td>\n",
              "      <td>-74.0093</td>\n",
              "    </tr>\n",
              "    <tr>\n",
              "      <th>bin</th>\n",
              "      <td>4.01452e+06</td>\n",
              "      <td>1.00822e+06</td>\n",
              "      <td>4.00031e+06</td>\n",
              "      <td>1.03113e+06</td>\n",
              "      <td>1.00083e+06</td>\n",
              "    </tr>\n",
              "    <tr>\n",
              "      <th>bbl</th>\n",
              "      <td>4007680058</td>\n",
              "      <td>1005227501</td>\n",
              "      <td>4000460010</td>\n",
              "      <td>1011860083</td>\n",
              "      <td>1000277501</td>\n",
              "    </tr>\n",
              "    <tr>\n",
              "      <th>floor_count</th>\n",
              "      <td>3</td>\n",
              "      <td>8</td>\n",
              "      <td>2</td>\n",
              "      <td>16</td>\n",
              "      <td>9</td>\n",
              "    </tr>\n",
              "    <tr>\n",
              "      <th>year_built</th>\n",
              "      <td>1965</td>\n",
              "      <td>1910</td>\n",
              "      <td>1901</td>\n",
              "      <td>1927</td>\n",
              "      <td>1836</td>\n",
              "    </tr>\n",
              "    <tr>\n",
              "      <th>min_to_subway</th>\n",
              "      <td>8.3333</td>\n",
              "      <td>0.2</td>\n",
              "      <td>2.65</td>\n",
              "      <td>0.9</td>\n",
              "      <td>0.6833</td>\n",
              "    </tr>\n",
              "    <tr>\n",
              "      <th>has_doorman</th>\n",
              "      <td>0</td>\n",
              "      <td>0</td>\n",
              "      <td>0</td>\n",
              "      <td>1</td>\n",
              "      <td>1</td>\n",
              "    </tr>\n",
              "    <tr>\n",
              "      <th>has_elevator</th>\n",
              "      <td>0</td>\n",
              "      <td>1</td>\n",
              "      <td>0</td>\n",
              "      <td>1</td>\n",
              "      <td>1</td>\n",
              "    </tr>\n",
              "    <tr>\n",
              "      <th>has_fireplace</th>\n",
              "      <td>0</td>\n",
              "      <td>0</td>\n",
              "      <td>0</td>\n",
              "      <td>0</td>\n",
              "      <td>0</td>\n",
              "    </tr>\n",
              "    <tr>\n",
              "      <th>has_dishwasher</th>\n",
              "      <td>0</td>\n",
              "      <td>1</td>\n",
              "      <td>0</td>\n",
              "      <td>1</td>\n",
              "      <td>1</td>\n",
              "    </tr>\n",
              "    <tr>\n",
              "      <th>is_furnished</th>\n",
              "      <td>0</td>\n",
              "      <td>0</td>\n",
              "      <td>0</td>\n",
              "      <td>0</td>\n",
              "      <td>0</td>\n",
              "    </tr>\n",
              "    <tr>\n",
              "      <th>has_gym</th>\n",
              "      <td>0</td>\n",
              "      <td>0</td>\n",
              "      <td>0</td>\n",
              "      <td>0</td>\n",
              "      <td>1</td>\n",
              "    </tr>\n",
              "    <tr>\n",
              "      <th>allows_pets</th>\n",
              "      <td>0</td>\n",
              "      <td>1</td>\n",
              "      <td>0</td>\n",
              "      <td>1</td>\n",
              "      <td>1</td>\n",
              "    </tr>\n",
              "    <tr>\n",
              "      <th>has_washer_dryer</th>\n",
              "      <td>0</td>\n",
              "      <td>0</td>\n",
              "      <td>0</td>\n",
              "      <td>1</td>\n",
              "      <td>0</td>\n",
              "    </tr>\n",
              "    <tr>\n",
              "      <th>has_garage</th>\n",
              "      <td>0</td>\n",
              "      <td>0</td>\n",
              "      <td>0</td>\n",
              "      <td>0</td>\n",
              "      <td>0</td>\n",
              "    </tr>\n",
              "    <tr>\n",
              "      <th>has_roofdeck</th>\n",
              "      <td>0</td>\n",
              "      <td>0</td>\n",
              "      <td>0</td>\n",
              "      <td>1</td>\n",
              "      <td>1</td>\n",
              "    </tr>\n",
              "    <tr>\n",
              "      <th>has_concierge</th>\n",
              "      <td>0</td>\n",
              "      <td>0</td>\n",
              "      <td>0</td>\n",
              "      <td>1</td>\n",
              "      <td>1</td>\n",
              "    </tr>\n",
              "    <tr>\n",
              "      <th>has_pool</th>\n",
              "      <td>0</td>\n",
              "      <td>0</td>\n",
              "      <td>0</td>\n",
              "      <td>0</td>\n",
              "      <td>0</td>\n",
              "    </tr>\n",
              "    <tr>\n",
              "      <th>has_garden</th>\n",
              "      <td>0</td>\n",
              "      <td>1</td>\n",
              "      <td>1</td>\n",
              "      <td>0</td>\n",
              "      <td>0</td>\n",
              "    </tr>\n",
              "    <tr>\n",
              "      <th>has_childrens_playroom</th>\n",
              "      <td>0</td>\n",
              "      <td>0</td>\n",
              "      <td>0</td>\n",
              "      <td>1</td>\n",
              "      <td>0</td>\n",
              "    </tr>\n",
              "    <tr>\n",
              "      <th>rent</th>\n",
              "      <td>1975</td>\n",
              "      <td>28500</td>\n",
              "      <td>2750</td>\n",
              "      <td>5995</td>\n",
              "      <td>3975</td>\n",
              "    </tr>\n",
              "    <tr>\n",
              "      <th>no_fee</th>\n",
              "      <td>0</td>\n",
              "      <td>0</td>\n",
              "      <td>0</td>\n",
              "      <td>1</td>\n",
              "      <td>1</td>\n",
              "    </tr>\n",
              "    <tr>\n",
              "      <th>description</th>\n",
              "      <td>Very nice updated apartment.\\r\\nBright and cle...</td>\n",
              "      <td>A truly exquisite gem, this Noho Penthouse Lof...</td>\n",
              "      <td>Desirable 2BR w/Outdoor Garden Move in date AS...</td>\n",
              "      <td>An Upper West Side landmark brilliantly reimag...</td>\n",
              "      <td>Welcome to Cipriani! Currently tenant occupied...</td>\n",
              "    </tr>\n",
              "    <tr>\n",
              "      <th>neighborhood</th>\n",
              "      <td>Astoria</td>\n",
              "      <td>Greenwich Village</td>\n",
              "      <td>Long Island City</td>\n",
              "      <td>Upper West Side</td>\n",
              "      <td>Financial District</td>\n",
              "    </tr>\n",
              "    <tr>\n",
              "      <th>borough</th>\n",
              "      <td>Queens</td>\n",
              "      <td>Manhattan</td>\n",
              "      <td>Queens</td>\n",
              "      <td>Manhattan</td>\n",
              "      <td>Manhattan</td>\n",
              "    </tr>\n",
              "    <tr>\n",
              "      <th>unit</th>\n",
              "      <td>3</td>\n",
              "      <td>PH8FL</td>\n",
              "      <td>3</td>\n",
              "      <td>9B</td>\n",
              "      <td>615</td>\n",
              "    </tr>\n",
              "    <tr>\n",
              "      <th>floornumber</th>\n",
              "      <td>3</td>\n",
              "      <td>8</td>\n",
              "      <td>3</td>\n",
              "      <td>9</td>\n",
              "      <td>6</td>\n",
              "    </tr>\n",
              "    <tr>\n",
              "      <th>line</th>\n",
              "      <td>NaN</td>\n",
              "      <td>FL</td>\n",
              "      <td>NaN</td>\n",
              "      <td>B</td>\n",
              "      <td>15</td>\n",
              "    </tr>\n",
              "  </tbody>\n",
              "</table>\n",
              "</div>"
            ],
            "text/plain": [
              "rental_id                                                         7134850  ...                                            7150303\n",
              "addr_unit                                                              #3  ...                                               #615\n",
              "building_id                                                       1282774  ...                                                457\n",
              "bedrooms                                                                2  ...                                                  0\n",
              "bathrooms                                                               1  ...                                                  1\n",
              "size_sqft                                                             800  ...                                                645\n",
              "created_at                                            2018-05-01 15:34:58  ...                                2018-05-05 14:55:15\n",
              "addr_street                                               22-18 47 STREET  ...                                     55 WALL STREET\n",
              "addr_city                                                         Astoria  ...                                           New York\n",
              "addr_zip                                                            11105  ...                                              10005\n",
              "addr_lat                                                          40.7695  ...                                            40.7058\n",
              "addr_lon                                                         -73.9025  ...                                           -74.0093\n",
              "bin                                                           4.01452e+06  ...                                        1.00083e+06\n",
              "bbl                                                            4007680058  ...                                         1000277501\n",
              "floor_count                                                             3  ...                                                  9\n",
              "year_built                                                           1965  ...                                               1836\n",
              "min_to_subway                                                      8.3333  ...                                             0.6833\n",
              "has_doorman                                                             0  ...                                                  1\n",
              "has_elevator                                                            0  ...                                                  1\n",
              "has_fireplace                                                           0  ...                                                  0\n",
              "has_dishwasher                                                          0  ...                                                  1\n",
              "is_furnished                                                            0  ...                                                  0\n",
              "has_gym                                                                 0  ...                                                  1\n",
              "allows_pets                                                             0  ...                                                  1\n",
              "has_washer_dryer                                                        0  ...                                                  0\n",
              "has_garage                                                              0  ...                                                  0\n",
              "has_roofdeck                                                            0  ...                                                  1\n",
              "has_concierge                                                           0  ...                                                  1\n",
              "has_pool                                                                0  ...                                                  0\n",
              "has_garden                                                              0  ...                                                  0\n",
              "has_childrens_playroom                                                  0  ...                                                  0\n",
              "rent                                                                 1975  ...                                               3975\n",
              "no_fee                                                                  0  ...                                                  1\n",
              "description             Very nice updated apartment.\\r\\nBright and cle...  ...  Welcome to Cipriani! Currently tenant occupied...\n",
              "neighborhood                                                      Astoria  ...                                 Financial District\n",
              "borough                                                            Queens  ...                                          Manhattan\n",
              "unit                                                                    3  ...                                                615\n",
              "floornumber                                                             3  ...                                                  6\n",
              "line                                                                  NaN  ...                                                 15\n",
              "\n",
              "[38 rows x 5 columns]"
            ]
          },
          "metadata": {
            "tags": []
          },
          "execution_count": 3
        }
      ]
    },
    {
      "cell_type": "markdown",
      "metadata": {
        "id": "D1x5J8OXNF7u",
        "colab_type": "text"
      },
      "source": [
        "#### Build training data"
      ]
    },
    {
      "cell_type": "code",
      "metadata": {
        "id": "26WUL6lXNF7v",
        "colab_type": "code",
        "colab": {}
      },
      "source": [
        "# extract usable features\n",
        "feature_cols = [\n",
        "    'bedrooms', 'year_built', 'bathrooms', 'min_to_subway', \n",
        "    'size_sqft', 'no_fee', 'has_doorman'\n",
        "]\n",
        "train_features = train_df[feature_cols] \n",
        "\n",
        "# impute missing values with medians\n",
        "train_features = train_features.fillna(train_features.median(), axis=0)\n",
        "\n",
        "# construct target vector\n",
        "train_target = train_df['rent']"
      ],
      "execution_count": 0,
      "outputs": []
    },
    {
      "cell_type": "markdown",
      "metadata": {
        "id": "7ghbQOzFNF7y",
        "colab_type": "text"
      },
      "source": [
        "#### Fit model"
      ]
    },
    {
      "cell_type": "code",
      "metadata": {
        "id": "EEx80Y2ANF7z",
        "colab_type": "code",
        "colab": {}
      },
      "source": [
        "lreg = LinearRegression()\n",
        "lreg.fit(train_features, train_target)\n"
      ],
      "execution_count": 0,
      "outputs": []
    },
    {
      "cell_type": "markdown",
      "metadata": {
        "id": "5goOF6pGNF71",
        "colab_type": "text"
      },
      "source": [
        "#### Predict and Measure Using Test 1"
      ]
    },
    {
      "cell_type": "code",
      "metadata": {
        "id": "huaMFX1LNF72",
        "colab_type": "code",
        "colab": {}
      },
      "source": [
        "test_features = test_df[feature_cols] \n",
        "\n",
        "# impute missing values with medians\n",
        "test_features = test_features.fillna(train_features.median(), axis=0)\n",
        "\n",
        "# construct predictions \n",
        "test_df['predicted'] = lreg.predict(test_features)\n",
        "\n",
        "mean_squared_error(test_df['rent'], test_df['predicted'])"
      ],
      "execution_count": 0,
      "outputs": []
    },
    {
      "cell_type": "markdown",
      "metadata": {
        "id": "lEzzZAM6NF75",
        "colab_type": "text"
      },
      "source": [
        "#### Combine Data, Predict Values for Test 2"
      ]
    },
    {
      "cell_type": "code",
      "metadata": {
        "id": "CeyhV3ByNF77",
        "colab_type": "code",
        "colab": {}
      },
      "source": [
        "master_df = train_df.append(test_df, sort=False)\n",
        "\n",
        "master_features = master_df[feature_cols].fillna(master_df[feature_cols].median(), axis=0)\n",
        "master_target = master_df['rent']\n",
        "\n",
        "lreg.fit(master_features, master_target)\n"
      ],
      "execution_count": 0,
      "outputs": []
    },
    {
      "cell_type": "code",
      "metadata": {
        "id": "JhC9HDQNNF79",
        "colab_type": "code",
        "colab": {}
      },
      "source": [
        ""
      ],
      "execution_count": 0,
      "outputs": []
    },
    {
      "cell_type": "markdown",
      "metadata": {
        "id": "qQ2BWORzNF7_",
        "colab_type": "text"
      },
      "source": [
        "#### Create Submission File for `test2`"
      ]
    },
    {
      "cell_type": "code",
      "metadata": {
        "id": "WfY0GOwGNF8A",
        "colab_type": "code",
        "colab": {}
      },
      "source": [
        "submit1_features = submit1_df[feature_cols].fillna(master_df[feature_cols].median(), axis=0)\n",
        "submit1_df['predictions'] = lreg.predict(submit1_features)\n",
        "submit1_df['predictions'].to_csv('sample_submission1.csv', header=True)\n",
        "\n",
        "submit1_df['fake_rent'] = np.ones(submit1_df['predictions'].shape) * master_target.median()\n",
        "mean_squared_error(submit1_df['predictions'], submit1_df['fake_rent'])"
      ],
      "execution_count": 0,
      "outputs": []
    },
    {
      "cell_type": "code",
      "metadata": {
        "id": "EJAEkcO5NF8D",
        "colab_type": "code",
        "colab": {}
      },
      "source": [
        ""
      ],
      "execution_count": 0,
      "outputs": []
    },
    {
      "cell_type": "markdown",
      "metadata": {
        "id": "y-7fS-j8NF8F",
        "colab_type": "text"
      },
      "source": [
        "#### Create Submission File for `test3`"
      ]
    },
    {
      "cell_type": "code",
      "metadata": {
        "id": "Xghlr3PgNF8H",
        "colab_type": "code",
        "colab": {}
      },
      "source": [
        "submit2_features = submit2_df[feature_cols].fillna(master_df[feature_cols].median(), axis=0)\n",
        "submit2_df['predictions'] = lreg.predict(submit2_features)\n",
        "submit2_df['predictions'].to_csv('sample_submission2.csv', header=True)\n",
        "\n",
        "submit2_df['fake_rent'] = np.ones(submit2_df['predictions'].shape) * master_target.median()\n",
        "mean_squared_error(submit2_df['predictions'], submit2_df['fake_rent'])"
      ],
      "execution_count": 0,
      "outputs": []
    },
    {
      "cell_type": "code",
      "metadata": {
        "id": "00AI3-PNNF8K",
        "colab_type": "code",
        "colab": {}
      },
      "source": [
        ""
      ],
      "execution_count": 0,
      "outputs": []
    },
    {
      "cell_type": "code",
      "metadata": {
        "id": "ywMhCRW3NF8N",
        "colab_type": "code",
        "colab": {}
      },
      "source": [
        ""
      ],
      "execution_count": 0,
      "outputs": []
    },
    {
      "cell_type": "code",
      "metadata": {
        "id": "blbPaWU_NF8Q",
        "colab_type": "code",
        "colab": {}
      },
      "source": [
        ""
      ],
      "execution_count": 0,
      "outputs": []
    },
    {
      "cell_type": "code",
      "metadata": {
        "id": "NYfv1kuSNF8S",
        "colab_type": "code",
        "colab": {}
      },
      "source": [
        ""
      ],
      "execution_count": 0,
      "outputs": []
    },
    {
      "cell_type": "code",
      "metadata": {
        "id": "UfuRsQYBNF8V",
        "colab_type": "code",
        "colab": {}
      },
      "source": [
        ""
      ],
      "execution_count": 0,
      "outputs": []
    }
  ]
}